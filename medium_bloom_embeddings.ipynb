{
 "cells": [
  {
   "cell_type": "code",
   "execution_count": 1,
   "metadata": {},
   "outputs": [
    {
     "name": "stdout",
     "output_type": "stream",
     "text": [
      "before hash_vector [ 0.078238   -0.09285944]\n",
      "true_vector:  [0.08874962 0.03636406]\n",
      "after hash_vector [0.02439573 0.0364369 ]\n"
     ]
    }
   ],
   "source": [
    "import numpy\n",
    "import numpy.random as random\n",
    "import mmh3\n",
    "\n",
    "random.seed(0)\n",
    "\n",
    "nb_epoch = 300\n",
    "learn_rate = 0.001\n",
    "nr_hash_vector = 15\n",
    "\n",
    "vocab = ['apple', 'strawberry', 'orange', 'juice', 'drink', 'smoothie',\n",
    "         'eat', 'fruit', 'health', 'wellness', 'steak', 'fries', 'ketchup',\n",
    "         'burger', 'chips', 'lobster', 'caviar', 'service', 'waiter', 'chef']\n",
    "\n",
    "true_vectors = numpy.random.uniform(-0.1, 0.1, (len(vocab), 2))\n",
    "hash_vectors = numpy.random.uniform(-0.1, 0.1, (nr_hash_vector, 2))\n",
    "\n",
    "examples = list(zip(vocab, true_vectors))\n",
    "print(\"before hash_vector\", hash_vectors[5]+hash_vectors[13])\n",
    "\n",
    "\n",
    "loss_, keys=[], {}\n",
    "for epoch in range(nb_epoch):\n",
    "    random.shuffle(examples)\n",
    "    loss=0.\n",
    "    for word, truth in examples:\n",
    "        key1 = mmh3.hash(word, 0) % nr_hash_vector\n",
    "        key2 = mmh3.hash(word, 1) % nr_hash_vector\n",
    "        keys[word]=[key1, key2]\n",
    "        hash_vector = hash_vectors[key1] + hash_vectors[key2]\n",
    "\n",
    "        diff = hash_vector - truth\n",
    "\n",
    "        hash_vectors[key1] -= learn_rate * diff * 2\n",
    "        hash_vectors[key2] -= learn_rate * diff * 2\n",
    "        loss += (diff**2).sum()\n",
    "    loss_.append(loss)\n",
    "    #print(\"Epoch {}: {}\".format(epoch, loss))\n",
    "    \n",
    "print(\"true_vector: \", true_vectors[-1])\n",
    "print(\"after hash_vector\", hash_vectors[5]+hash_vectors[13])"
   ]
  },
  {
   "cell_type": "code",
   "execution_count": 2,
   "metadata": {},
   "outputs": [
    {
     "data": {
      "text/plain": [
       "{'fries': [5, 4],\n",
       " 'caviar': [3, 0],\n",
       " 'health': [10, 9],\n",
       " 'drink': [1, 8],\n",
       " 'eat': [8, 13],\n",
       " 'strawberry': [11, 6],\n",
       " 'ketchup': [2, 2],\n",
       " 'chef': [5, 13],\n",
       " 'chips': [0, 5],\n",
       " 'waiter': [12, 10],\n",
       " 'service': [2, 2],\n",
       " 'lobster': [7, 10],\n",
       " 'wellness': [3, 12],\n",
       " 'smoothie': [6, 3],\n",
       " 'fruit': [13, 1],\n",
       " 'apple': [0, 3],\n",
       " 'burger': [9, 13],\n",
       " 'steak': [1, 11],\n",
       " 'orange': [10, 4],\n",
       " 'juice': [9, 13]}"
      ]
     },
     "execution_count": 2,
     "metadata": {},
     "output_type": "execute_result"
    }
   ],
   "source": [
    "keys"
   ]
  },
  {
   "cell_type": "code",
   "execution_count": 3,
   "metadata": {},
   "outputs": [
    {
     "data": {
      "image/png": "[encoded data removed]",
      "text/plain": [
       "<Figure size 432x288 with 1 Axes>"
      ]
     },
     "metadata": {
      "needs_background": "light"
     },
     "output_type": "display_data"
    }
   ],
   "source": [
    "import matplotlib.pyplot as plt\n",
    "plt.plot(numpy.arange(nb_epoch), loss_)\n",
    "plt.xlabel(\"Number of epoch\")\n",
    "plt.ylabel(\"Loss\")\n",
    "plt.show()"
   ]
  },
  {
   "cell_type": "code",
   "execution_count": null,
   "metadata": {},
   "outputs": [],
   "source": []
  }
 ],
 "metadata": {
  "kernelspec": {
   "display_name": "Python 3",
   "language": "python",
   "name": "python3"
  },
  "language_info": {
   "codemirror_mode": {
    "name": "ipython",
    "version": 3
   },
   "file_extension": ".py",
   "mimetype": "text/x-python",
   "name": "python",
   "nbconvert_exporter": "python",
   "pygments_lexer": "ipython3",
   "version": "3.7.6"
  }
 },
 "nbformat": 4,
 "nbformat_minor": 4
}
